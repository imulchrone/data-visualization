{
 "cells": [
  {
   "cell_type": "code",
   "execution_count": 41,
   "id": "20bc5fda",
   "metadata": {},
   "outputs": [],
   "source": [
    "import matplotlib.pyplot as plt\n",
    "%matplotlib inline\n",
    "import pandas as pd\n",
    "import numpy as np\n",
    "import geopandas as gpd\n",
    "import geoplot as gplt\n",
    "import geoplot.crs as gcrs"
   ]
  },
  {
   "cell_type": "code",
   "execution_count": 9,
   "id": "99c45d5a",
   "metadata": {},
   "outputs": [
    {
     "data": {
      "text/html": [
       "<div>\n",
       "<style scoped>\n",
       "    .dataframe tbody tr th:only-of-type {\n",
       "        vertical-align: middle;\n",
       "    }\n",
       "\n",
       "    .dataframe tbody tr th {\n",
       "        vertical-align: top;\n",
       "    }\n",
       "\n",
       "    .dataframe thead th {\n",
       "        text-align: right;\n",
       "    }\n",
       "</style>\n",
       "<table border=\"1\" class=\"dataframe\">\n",
       "  <thead>\n",
       "    <tr style=\"text-align: right;\">\n",
       "      <th></th>\n",
       "      <th>County</th>\n",
       "      <th>State</th>\n",
       "      <th>FoodServices-97</th>\n",
       "      <th>FoodServices-2002</th>\n",
       "      <th>FoodServices-2007</th>\n",
       "    </tr>\n",
       "  </thead>\n",
       "  <tbody>\n",
       "    <tr>\n",
       "      <th>0</th>\n",
       "      <td>UNITED STATES</td>\n",
       "      <td>NaN</td>\n",
       "      <td>545068</td>\n",
       "      <td>565590</td>\n",
       "      <td>634361</td>\n",
       "    </tr>\n",
       "    <tr>\n",
       "      <th>1</th>\n",
       "      <td>ALABAMA</td>\n",
       "      <td>NaN</td>\n",
       "      <td>6955</td>\n",
       "      <td>7075</td>\n",
       "      <td>8093</td>\n",
       "    </tr>\n",
       "    <tr>\n",
       "      <th>2</th>\n",
       "      <td>Autauga</td>\n",
       "      <td>AL</td>\n",
       "      <td>50</td>\n",
       "      <td>67</td>\n",
       "      <td>92</td>\n",
       "    </tr>\n",
       "    <tr>\n",
       "      <th>3</th>\n",
       "      <td>Baldwin</td>\n",
       "      <td>AL</td>\n",
       "      <td>303</td>\n",
       "      <td>319</td>\n",
       "      <td>414</td>\n",
       "    </tr>\n",
       "    <tr>\n",
       "      <th>4</th>\n",
       "      <td>Barbour</td>\n",
       "      <td>AL</td>\n",
       "      <td>42</td>\n",
       "      <td>44</td>\n",
       "      <td>45</td>\n",
       "    </tr>\n",
       "  </tbody>\n",
       "</table>\n",
       "</div>"
      ],
      "text/plain": [
       "          County State  FoodServices-97  FoodServices-2002  FoodServices-2007\n",
       "0  UNITED STATES   NaN           545068             565590             634361\n",
       "1        ALABAMA   NaN             6955               7075               8093\n",
       "2        Autauga    AL               50                 67                 92\n",
       "3        Baldwin    AL              303                319                414\n",
       "4        Barbour    AL               42                 44                 45"
      ]
     },
     "execution_count": 9,
     "metadata": {},
     "output_type": "execute_result"
    }
   ],
   "source": [
    "food = pd.read_csv('FoodSrvcByCounty.txt', sep = '\\t')\n",
    "food.head()"
   ]
  },
  {
   "cell_type": "code",
   "execution_count": 22,
   "id": "797426b6",
   "metadata": {},
   "outputs": [
    {
     "data": {
      "text/html": [
       "<div>\n",
       "<style scoped>\n",
       "    .dataframe tbody tr th:only-of-type {\n",
       "        vertical-align: middle;\n",
       "    }\n",
       "\n",
       "    .dataframe tbody tr th {\n",
       "        vertical-align: top;\n",
       "    }\n",
       "\n",
       "    .dataframe thead th {\n",
       "        text-align: right;\n",
       "    }\n",
       "</style>\n",
       "<table border=\"1\" class=\"dataframe\">\n",
       "  <thead>\n",
       "    <tr style=\"text-align: right;\">\n",
       "      <th></th>\n",
       "      <th>State</th>\n",
       "      <th>FoodServices-97</th>\n",
       "      <th>FoodServices-2002</th>\n",
       "      <th>FoodServices-2007</th>\n",
       "    </tr>\n",
       "  </thead>\n",
       "  <tbody>\n",
       "    <tr>\n",
       "      <th>0</th>\n",
       "      <td>ALABAMA</td>\n",
       "      <td>6955</td>\n",
       "      <td>7075</td>\n",
       "      <td>8093</td>\n",
       "    </tr>\n",
       "    <tr>\n",
       "      <th>1</th>\n",
       "      <td>ALASKA</td>\n",
       "      <td>1763</td>\n",
       "      <td>1849</td>\n",
       "      <td>1996</td>\n",
       "    </tr>\n",
       "    <tr>\n",
       "      <th>2</th>\n",
       "      <td>ARIZONA</td>\n",
       "      <td>9094</td>\n",
       "      <td>9944</td>\n",
       "      <td>11610</td>\n",
       "    </tr>\n",
       "    <tr>\n",
       "      <th>3</th>\n",
       "      <td>ARKANSAS</td>\n",
       "      <td>4663</td>\n",
       "      <td>4659</td>\n",
       "      <td>5112</td>\n",
       "    </tr>\n",
       "    <tr>\n",
       "      <th>4</th>\n",
       "      <td>CALIFORNIA</td>\n",
       "      <td>62629</td>\n",
       "      <td>66568</td>\n",
       "      <td>75989</td>\n",
       "    </tr>\n",
       "  </tbody>\n",
       "</table>\n",
       "</div>"
      ],
      "text/plain": [
       "        State  FoodServices-97  FoodServices-2002  FoodServices-2007\n",
       "0     ALABAMA             6955               7075               8093\n",
       "1      ALASKA             1763               1849               1996\n",
       "2     ARIZONA             9094               9944              11610\n",
       "3    ARKANSAS             4663               4659               5112\n",
       "4  CALIFORNIA            62629              66568              75989"
      ]
     },
     "execution_count": 22,
     "metadata": {},
     "output_type": "execute_result"
    }
   ],
   "source": [
    "states = food.copy()\n",
    "states = states.loc[states['State'].isna()]\n",
    "states = states[states['County'] != 'UNITED STATES']\n",
    "states = states.drop('State', axis=1)\n",
    "states = states.rename(columns={'County':'State'})\n",
    "states.reset_index(drop=True,inplace=True)\n",
    "states.head()"
   ]
  },
  {
   "cell_type": "code",
   "execution_count": 6,
   "id": "d0cd6334",
   "metadata": {},
   "outputs": [
    {
     "data": {
      "text/plain": [
       "<Axes: >"
      ]
     },
     "execution_count": 6,
     "metadata": {},
     "output_type": "execute_result"
    },
    {
     "data": {
      "image/png": "[encoded data removed]",
      "text/plain": [
       "<Figure size 800x600 with 1 Axes>"
      ]
     },
     "metadata": {},
     "output_type": "display_data"
    }
   ],
   "source": [
    "contiguous_usa = gpd.read_file(gplt.datasets.get_path('contiguous_usa'))\n",
    "gplt.polyplot(contiguous_usa)"
   ]
  },
  {
   "cell_type": "code",
   "execution_count": 7,
   "id": "ae09a93a",
   "metadata": {},
   "outputs": [
    {
     "data": {
      "text/html": [
       "<div>\n",
       "<style scoped>\n",
       "    .dataframe tbody tr th:only-of-type {\n",
       "        vertical-align: middle;\n",
       "    }\n",
       "\n",
       "    .dataframe tbody tr th {\n",
       "        vertical-align: top;\n",
       "    }\n",
       "\n",
       "    .dataframe thead th {\n",
       "        text-align: right;\n",
       "    }\n",
       "</style>\n",
       "<table border=\"1\" class=\"dataframe\">\n",
       "  <thead>\n",
       "    <tr style=\"text-align: right;\">\n",
       "      <th></th>\n",
       "      <th>state</th>\n",
       "      <th>adm1_code</th>\n",
       "      <th>population</th>\n",
       "      <th>geometry</th>\n",
       "    </tr>\n",
       "  </thead>\n",
       "  <tbody>\n",
       "    <tr>\n",
       "      <th>0</th>\n",
       "      <td>Minnesota</td>\n",
       "      <td>USA-3514</td>\n",
       "      <td>5303925</td>\n",
       "      <td>POLYGON ((-89.59941 48.01027, -89.48888 48.013...</td>\n",
       "    </tr>\n",
       "    <tr>\n",
       "      <th>1</th>\n",
       "      <td>Montana</td>\n",
       "      <td>USA-3515</td>\n",
       "      <td>989415</td>\n",
       "      <td>POLYGON ((-111.19419 44.56116, -111.29155 44.7...</td>\n",
       "    </tr>\n",
       "    <tr>\n",
       "      <th>2</th>\n",
       "      <td>North Dakota</td>\n",
       "      <td>USA-3516</td>\n",
       "      <td>672591</td>\n",
       "      <td>POLYGON ((-96.60136 46.35136, -96.53891 46.199...</td>\n",
       "    </tr>\n",
       "    <tr>\n",
       "      <th>3</th>\n",
       "      <td>Idaho</td>\n",
       "      <td>USA-3518</td>\n",
       "      <td>1567582</td>\n",
       "      <td>POLYGON ((-111.04973 44.48816, -111.05024 42.0...</td>\n",
       "    </tr>\n",
       "    <tr>\n",
       "      <th>4</th>\n",
       "      <td>Washington</td>\n",
       "      <td>USA-3519</td>\n",
       "      <td>6724540</td>\n",
       "      <td>POLYGON ((-116.99807 46.33017, -116.90653 46.1...</td>\n",
       "    </tr>\n",
       "  </tbody>\n",
       "</table>\n",
       "</div>"
      ],
      "text/plain": [
       "          state adm1_code  population  \\\n",
       "0     Minnesota  USA-3514     5303925   \n",
       "1       Montana  USA-3515      989415   \n",
       "2  North Dakota  USA-3516      672591   \n",
       "3         Idaho  USA-3518     1567582   \n",
       "4    Washington  USA-3519     6724540   \n",
       "\n",
       "                                            geometry  \n",
       "0  POLYGON ((-89.59941 48.01027, -89.48888 48.013...  \n",
       "1  POLYGON ((-111.19419 44.56116, -111.29155 44.7...  \n",
       "2  POLYGON ((-96.60136 46.35136, -96.53891 46.199...  \n",
       "3  POLYGON ((-111.04973 44.48816, -111.05024 42.0...  \n",
       "4  POLYGON ((-116.99807 46.33017, -116.90653 46.1...  "
      ]
     },
     "execution_count": 7,
     "metadata": {},
     "output_type": "execute_result"
    }
   ],
   "source": [
    "contiguous_usa.head()"
   ]
  },
  {
   "cell_type": "code",
   "execution_count": 25,
   "id": "9b811d8f",
   "metadata": {},
   "outputs": [
    {
     "data": {
      "text/plain": [
       "array(['Minnesota', 'Montana', 'North Dakota', 'Idaho', 'Washington',\n",
       "       'Arizona', 'California', 'Colorado', 'Nevada', 'New Mexico',\n",
       "       'Oregon', 'Utah', 'Wyoming', 'Arkansas', 'Iowa', 'Kansas',\n",
       "       'Missouri', 'Nebraska', 'Oklahoma', 'South Dakota', 'Louisiana',\n",
       "       'Texas', 'Connecticut', 'Massachusetts', 'New Hampshire',\n",
       "       'Rhode Island', 'Vermont', 'Alabama', 'Florida', 'Georgia',\n",
       "       'Mississippi', 'South Carolina', 'Illinois', 'Indiana', 'Kentucky',\n",
       "       'North Carolina', 'Ohio', 'Tennessee', 'Virginia', 'Wisconsin',\n",
       "       'West Virginia', 'Delaware', 'District of Columbia', 'Maryland',\n",
       "       'New Jersey', 'New York', 'Pennsylvania', 'Maine', 'Michigan'],\n",
       "      dtype=object)"
      ]
     },
     "execution_count": 25,
     "metadata": {},
     "output_type": "execute_result"
    }
   ],
   "source": [
    "np.array(contiguous_usa['state'])"
   ]
  },
  {
   "cell_type": "code",
   "execution_count": 37,
   "id": "2a7e0be5",
   "metadata": {},
   "outputs": [
    {
     "data": {
      "text/plain": [
       "(49, 4)"
      ]
     },
     "execution_count": 37,
     "metadata": {},
     "output_type": "execute_result"
    }
   ],
   "source": [
    "contiguous_usa.shape"
   ]
  },
  {
   "cell_type": "code",
   "execution_count": 35,
   "id": "dd5677b6",
   "metadata": {},
   "outputs": [
    {
     "data": {
      "text/plain": [
       "array(['ALABAMA', 'ARIZONA', 'ARKANSAS', 'CALIFORNIA', 'COLORADO',\n",
       "       'CONNECTICUT', 'DELAWARE', 'DISTRICT OF COLUMBIA', 'FLORIDA',\n",
       "       'GEORGIA', 'IDAHO', 'ILLINOIS', 'INDIANA', 'IOWA', 'KANSAS',\n",
       "       'KENTUCKY', 'LOUISIANA', 'MAINE', 'MARYLAND', 'MASSACHUSETTS',\n",
       "       'MICHIGAN', 'MINNESOTA', 'MISSISSIPPI', 'MISSOURI', 'MONTANA',\n",
       "       'NEBRASKA', 'NEVADA', 'NEW HAMPSHIRE', 'NEW JERSEY', 'NEW MEXICO',\n",
       "       'NEW YORK', 'NORTH CAROLINA', 'NORTH DAKOTA', 'OHIO', 'OKLAHOMA',\n",
       "       'OREGON', 'PENNSYLVANIA', 'RHODE ISLAND', 'SOUTH CAROLINA',\n",
       "       'SOUTH DAKOTA', 'TENNESSEE', 'TEXAS', 'UTAH', 'VERMONT',\n",
       "       'VIRGINIA', 'WASHINGTON', 'WEST VIRGINIA', 'WISCONSIN', 'WYOMING'],\n",
       "      dtype=object)"
      ]
     },
     "execution_count": 35,
     "metadata": {},
     "output_type": "execute_result"
    }
   ],
   "source": [
    "states = states[~states['State'].isin(['District of Columbia','ALASKA','HAWAII'])]\n",
    "                    #  |\n",
    "                    # (states['State'] != 'HAWAII')]\n",
    "np.array(states['State'])"
   ]
  },
  {
   "cell_type": "code",
   "execution_count": 36,
   "id": "807200fa",
   "metadata": {},
   "outputs": [
    {
     "data": {
      "text/plain": [
       "(49, 4)"
      ]
     },
     "execution_count": 36,
     "metadata": {},
     "output_type": "execute_result"
    }
   ],
   "source": [
    "states.shape"
   ]
  },
  {
   "cell_type": "code",
   "execution_count": 39,
   "id": "0e2f6b09",
   "metadata": {},
   "outputs": [
    {
     "data": {
      "text/plain": [
       "array(['MINNESOTA', 'MONTANA', 'NORTH DAKOTA', 'IDAHO', 'WASHINGTON',\n",
       "       'ARIZONA', 'CALIFORNIA', 'COLORADO', 'NEVADA', 'NEW MEXICO',\n",
       "       'OREGON', 'UTAH', 'WYOMING', 'ARKANSAS', 'IOWA', 'KANSAS',\n",
       "       'MISSOURI', 'NEBRASKA', 'OKLAHOMA', 'SOUTH DAKOTA', 'LOUISIANA',\n",
       "       'TEXAS', 'CONNECTICUT', 'MASSACHUSETTS', 'NEW HAMPSHIRE',\n",
       "       'RHODE ISLAND', 'VERMONT', 'ALABAMA', 'FLORIDA', 'GEORGIA',\n",
       "       'MISSISSIPPI', 'SOUTH CAROLINA', 'ILLINOIS', 'INDIANA', 'KENTUCKY',\n",
       "       'NORTH CAROLINA', 'OHIO', 'TENNESSEE', 'VIRGINIA', 'WISCONSIN',\n",
       "       'WEST VIRGINIA', 'DELAWARE', 'DISTRICT OF COLUMBIA', 'MARYLAND',\n",
       "       'NEW JERSEY', 'NEW YORK', 'PENNSYLVANIA', 'MAINE', 'MICHIGAN'],\n",
       "      dtype=object)"
      ]
     },
     "execution_count": 39,
     "metadata": {},
     "output_type": "execute_result"
    }
   ],
   "source": [
    "contiguous_usa['state'] = contiguous_usa['state'].str.upper()\n",
    "contiguous_usa = contiguous_usa.rename(columns={'state':'State'})\n",
    "np.array(contiguous_usa['State'])"
   ]
  },
  {
   "cell_type": "code",
   "execution_count": 45,
   "id": "e502f763",
   "metadata": {},
   "outputs": [
    {
     "data": {
      "text/html": [
       "<div>\n",
       "<style scoped>\n",
       "    .dataframe tbody tr th:only-of-type {\n",
       "        vertical-align: middle;\n",
       "    }\n",
       "\n",
       "    .dataframe tbody tr th {\n",
       "        vertical-align: top;\n",
       "    }\n",
       "\n",
       "    .dataframe thead th {\n",
       "        text-align: right;\n",
       "    }\n",
       "</style>\n",
       "<table border=\"1\" class=\"dataframe\">\n",
       "  <thead>\n",
       "    <tr style=\"text-align: right;\">\n",
       "      <th></th>\n",
       "      <th>State</th>\n",
       "      <th>FoodServices-97</th>\n",
       "      <th>FoodServices-2002</th>\n",
       "      <th>FoodServices-2007</th>\n",
       "      <th>adm1_code</th>\n",
       "      <th>population</th>\n",
       "      <th>geometry</th>\n",
       "    </tr>\n",
       "  </thead>\n",
       "  <tbody>\n",
       "    <tr>\n",
       "      <th>0</th>\n",
       "      <td>ALABAMA</td>\n",
       "      <td>6955</td>\n",
       "      <td>7075</td>\n",
       "      <td>8093</td>\n",
       "      <td>USA-3541</td>\n",
       "      <td>4779736</td>\n",
       "      <td>POLYGON ((-85.05442 31.1087, -85.00519 30.9906...</td>\n",
       "    </tr>\n",
       "    <tr>\n",
       "      <th>1</th>\n",
       "      <td>ARIZONA</td>\n",
       "      <td>9094</td>\n",
       "      <td>9944</td>\n",
       "      <td>11610</td>\n",
       "      <td>USA-3520</td>\n",
       "      <td>6392017</td>\n",
       "      <td>POLYGON ((-109.04522 36.99991, -109.04367 31.3...</td>\n",
       "    </tr>\n",
       "    <tr>\n",
       "      <th>2</th>\n",
       "      <td>ARKANSAS</td>\n",
       "      <td>4663</td>\n",
       "      <td>4659</td>\n",
       "      <td>5112</td>\n",
       "      <td>USA-3528</td>\n",
       "      <td>2915918</td>\n",
       "      <td>POLYGON ((-89.66292 36.02307, -89.67351 35.94,...</td>\n",
       "    </tr>\n",
       "    <tr>\n",
       "      <th>3</th>\n",
       "      <td>CALIFORNIA</td>\n",
       "      <td>62629</td>\n",
       "      <td>66568</td>\n",
       "      <td>75989</td>\n",
       "      <td>USA-3521</td>\n",
       "      <td>37253956</td>\n",
       "      <td>POLYGON ((-114.3549 34.46467, -114.16597 34.27...</td>\n",
       "    </tr>\n",
       "    <tr>\n",
       "      <th>4</th>\n",
       "      <td>COLORADO</td>\n",
       "      <td>10073</td>\n",
       "      <td>10799</td>\n",
       "      <td>12075</td>\n",
       "      <td>USA-3522</td>\n",
       "      <td>5029196</td>\n",
       "      <td>POLYGON ((-102.05017 40.00082, -102.04012 38.4...</td>\n",
       "    </tr>\n",
       "  </tbody>\n",
       "</table>\n",
       "</div>"
      ],
      "text/plain": [
       "        State  FoodServices-97  FoodServices-2002  FoodServices-2007  \\\n",
       "0     ALABAMA             6955               7075               8093   \n",
       "1     ARIZONA             9094               9944              11610   \n",
       "2    ARKANSAS             4663               4659               5112   \n",
       "3  CALIFORNIA            62629              66568              75989   \n",
       "4    COLORADO            10073              10799              12075   \n",
       "\n",
       "  adm1_code  population                                           geometry  \n",
       "0  USA-3541     4779736  POLYGON ((-85.05442 31.1087, -85.00519 30.9906...  \n",
       "1  USA-3520     6392017  POLYGON ((-109.04522 36.99991, -109.04367 31.3...  \n",
       "2  USA-3528     2915918  POLYGON ((-89.66292 36.02307, -89.67351 35.94,...  \n",
       "3  USA-3521    37253956  POLYGON ((-114.3549 34.46467, -114.16597 34.27...  \n",
       "4  USA-3522     5029196  POLYGON ((-102.05017 40.00082, -102.04012 38.4...  "
      ]
     },
     "execution_count": 45,
     "metadata": {},
     "output_type": "execute_result"
    }
   ],
   "source": [
    "geo_df = pd.merge(states, contiguous_usa, on='State')\n",
    "geo_df = gpd.GeoDataFrame(geo_df, geometry='geometry')\n",
    "geo_df.head()"
   ]
  },
  {
   "cell_type": "code",
   "execution_count": 68,
   "id": "c60287a3",
   "metadata": {},
   "outputs": [
    {
     "data": {
      "image/png": "[encoded data removed]",
      "text/plain": [
       "<Figure size 1000x600 with 2 Axes>"
      ]
     },
     "metadata": {},
     "output_type": "display_data"
    }
   ],
   "source": [
    "gplt.cartogram(\n",
    "    geo_df,\n",
    "    scale=\"FoodServices-2007\",\n",
    "    projection=gcrs.AlbersEqualArea(),\n",
    "    edgecolor='black',\n",
    "    linewidth=0.5,\n",
    "    hue=\"FoodServices-2007\",   \n",
    "    cmap='Greens',\n",
    "    legend_var='hue',\n",
    "    legend=True,\n",
    "    figsize=(10,6)\n",
    ")\n",
    "plt.title(\"2007 State Food Services\", fontsize=16)\n",
    "\n",
    "# Display the map\n",
    "plt.show()"
   ]
  },
  {
   "cell_type": "code",
   "execution_count": null,
   "id": "add5adee",
   "metadata": {},
   "outputs": [],
   "source": []
  }
 ],
 "metadata": {
  "kernelspec": {
   "display_name": "Python 3",
   "language": "python",
   "name": "python3"
  },
  "language_info": {
   "codemirror_mode": {
    "name": "ipython",
    "version": 3
   },
   "file_extension": ".py",
   "mimetype": "text/x-python",
   "name": "python",
   "nbconvert_exporter": "python",
   "pygments_lexer": "ipython3",
   "version": "3.11.9"
  }
 },
 "nbformat": 4,
 "nbformat_minor": 5
}
